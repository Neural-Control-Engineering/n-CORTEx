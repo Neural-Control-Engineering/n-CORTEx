{
 "cells": [
  {
   "cell_type": "code",
   "execution_count": null,
   "metadata": {},
   "outputs": [],
   "source": [
    "# Marc Sorrentino 2024-08\n",
    "# Model development for realtime spectral fitting and embedding"
   ]
  },
  {
   "cell_type": "markdown",
   "metadata": {},
   "source": [
    "# Installations:"
   ]
  },
  {
   "cell_type": "code",
   "execution_count": 33,
   "metadata": {},
   "outputs": [
    {
     "name": "stdout",
     "output_type": "stream",
     "text": [
      "Requirement already satisfied: torch in /home/user/Code_Repo/n-CORTEx/NeuralNetworks/RTSpec/.conda/lib/python3.11/site-packages (2.4.0)\n",
      "Requirement already satisfied: filelock in /home/user/Code_Repo/n-CORTEx/NeuralNetworks/RTSpec/.conda/lib/python3.11/site-packages (from torch) (3.15.4)\n",
      "Requirement already satisfied: typing-extensions>=4.8.0 in /home/user/Code_Repo/n-CORTEx/NeuralNetworks/RTSpec/.conda/lib/python3.11/site-packages (from torch) (4.12.2)\n",
      "Requirement already satisfied: sympy in /home/user/Code_Repo/n-CORTEx/NeuralNetworks/RTSpec/.conda/lib/python3.11/site-packages (from torch) (1.13.2)\n",
      "Requirement already satisfied: networkx in /home/user/Code_Repo/n-CORTEx/NeuralNetworks/RTSpec/.conda/lib/python3.11/site-packages (from torch) (3.3)\n",
      "Requirement already satisfied: jinja2 in /home/user/Code_Repo/n-CORTEx/NeuralNetworks/RTSpec/.conda/lib/python3.11/site-packages (from torch) (3.1.4)\n",
      "Requirement already satisfied: fsspec in /home/user/Code_Repo/n-CORTEx/NeuralNetworks/RTSpec/.conda/lib/python3.11/site-packages (from torch) (2024.9.0)\n",
      "Requirement already satisfied: nvidia-cuda-nvrtc-cu12==12.1.105 in /home/user/Code_Repo/n-CORTEx/NeuralNetworks/RTSpec/.conda/lib/python3.11/site-packages (from torch) (12.1.105)\n",
      "Requirement already satisfied: nvidia-cuda-runtime-cu12==12.1.105 in /home/user/Code_Repo/n-CORTEx/NeuralNetworks/RTSpec/.conda/lib/python3.11/site-packages (from torch) (12.1.105)\n",
      "Requirement already satisfied: nvidia-cuda-cupti-cu12==12.1.105 in /home/user/Code_Repo/n-CORTEx/NeuralNetworks/RTSpec/.conda/lib/python3.11/site-packages (from torch) (12.1.105)\n",
      "Requirement already satisfied: nvidia-cudnn-cu12==9.1.0.70 in /home/user/Code_Repo/n-CORTEx/NeuralNetworks/RTSpec/.conda/lib/python3.11/site-packages (from torch) (9.1.0.70)\n",
      "Requirement already satisfied: nvidia-cublas-cu12==12.1.3.1 in /home/user/Code_Repo/n-CORTEx/NeuralNetworks/RTSpec/.conda/lib/python3.11/site-packages (from torch) (12.1.3.1)\n",
      "Requirement already satisfied: nvidia-cufft-cu12==11.0.2.54 in /home/user/Code_Repo/n-CORTEx/NeuralNetworks/RTSpec/.conda/lib/python3.11/site-packages (from torch) (11.0.2.54)\n",
      "Requirement already satisfied: nvidia-curand-cu12==10.3.2.106 in /home/user/Code_Repo/n-CORTEx/NeuralNetworks/RTSpec/.conda/lib/python3.11/site-packages (from torch) (10.3.2.106)\n",
      "Requirement already satisfied: nvidia-cusolver-cu12==11.4.5.107 in /home/user/Code_Repo/n-CORTEx/NeuralNetworks/RTSpec/.conda/lib/python3.11/site-packages (from torch) (11.4.5.107)\n",
      "Requirement already satisfied: nvidia-cusparse-cu12==12.1.0.106 in /home/user/Code_Repo/n-CORTEx/NeuralNetworks/RTSpec/.conda/lib/python3.11/site-packages (from torch) (12.1.0.106)\n",
      "Requirement already satisfied: nvidia-nccl-cu12==2.20.5 in /home/user/Code_Repo/n-CORTEx/NeuralNetworks/RTSpec/.conda/lib/python3.11/site-packages (from torch) (2.20.5)\n",
      "Requirement already satisfied: nvidia-nvtx-cu12==12.1.105 in /home/user/Code_Repo/n-CORTEx/NeuralNetworks/RTSpec/.conda/lib/python3.11/site-packages (from torch) (12.1.105)\n",
      "Requirement already satisfied: triton==3.0.0 in /home/user/Code_Repo/n-CORTEx/NeuralNetworks/RTSpec/.conda/lib/python3.11/site-packages (from torch) (3.0.0)\n",
      "Requirement already satisfied: nvidia-nvjitlink-cu12 in /home/user/Code_Repo/n-CORTEx/NeuralNetworks/RTSpec/.conda/lib/python3.11/site-packages (from nvidia-cusolver-cu12==11.4.5.107->torch) (12.6.68)\n",
      "Requirement already satisfied: MarkupSafe>=2.0 in /home/user/Code_Repo/n-CORTEx/NeuralNetworks/RTSpec/.conda/lib/python3.11/site-packages (from jinja2->torch) (2.1.5)\n",
      "Requirement already satisfied: mpmath<1.4,>=1.1.0 in /home/user/Code_Repo/n-CORTEx/NeuralNetworks/RTSpec/.conda/lib/python3.11/site-packages (from sympy->torch) (1.3.0)\n",
      "Requirement already satisfied: numpy in /home/user/Code_Repo/n-CORTEx/NeuralNetworks/RTSpec/.conda/lib/python3.11/site-packages (2.1.1)\n",
      "Requirement already satisfied: pandas in /home/user/Code_Repo/n-CORTEx/NeuralNetworks/RTSpec/.conda/lib/python3.11/site-packages (2.2.2)\n",
      "Requirement already satisfied: numpy>=1.23.2 in /home/user/Code_Repo/n-CORTEx/NeuralNetworks/RTSpec/.conda/lib/python3.11/site-packages (from pandas) (2.1.1)\n",
      "Requirement already satisfied: python-dateutil>=2.8.2 in /home/user/Code_Repo/n-CORTEx/NeuralNetworks/RTSpec/.conda/lib/python3.11/site-packages (from pandas) (2.9.0)\n",
      "Requirement already satisfied: pytz>=2020.1 in /home/user/Code_Repo/n-CORTEx/NeuralNetworks/RTSpec/.conda/lib/python3.11/site-packages (from pandas) (2024.1)\n",
      "Requirement already satisfied: tzdata>=2022.7 in /home/user/Code_Repo/n-CORTEx/NeuralNetworks/RTSpec/.conda/lib/python3.11/site-packages (from pandas) (2024.1)\n",
      "Requirement already satisfied: six>=1.5 in /home/user/Code_Repo/n-CORTEx/NeuralNetworks/RTSpec/.conda/lib/python3.11/site-packages (from python-dateutil>=2.8.2->pandas) (1.16.0)\n",
      "Requirement already satisfied: matplotlib in /home/user/Code_Repo/n-CORTEx/NeuralNetworks/RTSpec/.conda/lib/python3.11/site-packages (3.9.2)\n",
      "Requirement already satisfied: contourpy>=1.0.1 in /home/user/Code_Repo/n-CORTEx/NeuralNetworks/RTSpec/.conda/lib/python3.11/site-packages (from matplotlib) (1.3.0)\n",
      "Requirement already satisfied: cycler>=0.10 in /home/user/Code_Repo/n-CORTEx/NeuralNetworks/RTSpec/.conda/lib/python3.11/site-packages (from matplotlib) (0.12.1)\n",
      "Requirement already satisfied: fonttools>=4.22.0 in /home/user/Code_Repo/n-CORTEx/NeuralNetworks/RTSpec/.conda/lib/python3.11/site-packages (from matplotlib) (4.53.1)\n",
      "Requirement already satisfied: kiwisolver>=1.3.1 in /home/user/Code_Repo/n-CORTEx/NeuralNetworks/RTSpec/.conda/lib/python3.11/site-packages (from matplotlib) (1.4.7)\n",
      "Requirement already satisfied: numpy>=1.23 in /home/user/Code_Repo/n-CORTEx/NeuralNetworks/RTSpec/.conda/lib/python3.11/site-packages (from matplotlib) (2.1.1)\n",
      "Requirement already satisfied: packaging>=20.0 in /home/user/Code_Repo/n-CORTEx/NeuralNetworks/RTSpec/.conda/lib/python3.11/site-packages (from matplotlib) (24.1)\n",
      "Requirement already satisfied: pillow>=8 in /home/user/Code_Repo/n-CORTEx/NeuralNetworks/RTSpec/.conda/lib/python3.11/site-packages (from matplotlib) (10.4.0)\n",
      "Requirement already satisfied: pyparsing>=2.3.1 in /home/user/Code_Repo/n-CORTEx/NeuralNetworks/RTSpec/.conda/lib/python3.11/site-packages (from matplotlib) (3.1.4)\n",
      "Requirement already satisfied: python-dateutil>=2.7 in /home/user/Code_Repo/n-CORTEx/NeuralNetworks/RTSpec/.conda/lib/python3.11/site-packages (from matplotlib) (2.9.0)\n",
      "Requirement already satisfied: six>=1.5 in /home/user/Code_Repo/n-CORTEx/NeuralNetworks/RTSpec/.conda/lib/python3.11/site-packages (from python-dateutil>=2.7->matplotlib) (1.16.0)\n",
      "Requirement already satisfied: torchinfo in /home/user/Code_Repo/n-CORTEx/NeuralNetworks/RTSpec/.conda/lib/python3.11/site-packages (1.8.0)\n",
      "Collecting torchsummary\n",
      "  Downloading torchsummary-1.5.1-py3-none-any.whl.metadata (296 bytes)\n",
      "Downloading torchsummary-1.5.1-py3-none-any.whl (2.8 kB)\n",
      "Installing collected packages: torchsummary\n",
      "Successfully installed torchsummary-1.5.1\n"
     ]
    }
   ],
   "source": [
    "!pip install torch\n",
    "!pip install numpy\n",
    "!pip install pandas\n",
    "!pip install matplotlib\n",
    "!pip install torchinfo\n",
    "!pip install torchsummary\n"
   ]
  },
  {
   "cell_type": "markdown",
   "metadata": {
    "vscode": {
     "languageId": "plaintext"
    }
   },
   "source": [
    "# IMPORTS"
   ]
  },
  {
   "cell_type": "code",
   "execution_count": 1,
   "metadata": {},
   "outputs": [],
   "source": [
    "import sys\n",
    "sys.path.append('/home/user/Code_Repo/n-CORTEx/NeuralNetworks/RTSpec')\n",
    "# sys.path.append('/home/user/Code_Repo/n-CORTEx/NeuralNetworks/RTSpec/Models')\n",
    "from Models.UTime import USpec\n",
    "from Assembly.SpecsDataset import SpecsDataset\n",
    "import torch\n",
    "import torch.nn as nn\n",
    "import torch.nn.functional as F\n",
    "from torch.utils.data import Dataset, DataLoader\n",
    "from torchinfo import summary\n",
    "# from torchsummary import summary\n",
    "import math\n",
    "import glob\n",
    "from count_parameters import count_parameters\n",
    "from train import train \n",
    "import time"
   ]
  },
  {
   "cell_type": "markdown",
   "metadata": {},
   "source": [
    "# ASSEMBLY PARAMETERS"
   ]
  },
  {
   "cell_type": "code",
   "execution_count": 2,
   "metadata": {},
   "outputs": [],
   "source": [
    "import os\n",
    "# Define assembly parameters\n",
    "params = {}\n",
    "params['startEpoch'] = 0\n",
    "params['endEpoch'] = 50\n",
    "params['local_rank'] = 0\n",
    "params['modelName'] = \"USpec\"\n",
    "params['numWorkers'] = 4\n",
    "params['batchSize'] = 1\n",
    "params['learningRate'] = 0.001\n",
    "inventoryDir = \"/home/user/nCORTEx_local/Project_Neuromodulation-for-Pain/Experiments/JOLT/Data/FTR/TRAIN/RTSpec/Inventory\"\n",
    "dataDir = \"/home/user/nCORTEx_local/Project_Neuromodulation-for-Pain/Experiments/JOLT/Data/FTR/TRAIN/RTSpec/Dataset\"\n",
    "checkpointDir = os.path.join(inventoryDir,params['modelName'])\n",
    "os.makedirs(checkpointDir, exist_ok=True)\n",
    "# count the number of 'training sessions' for a given model\n",
    "numModelItrs = sum(1 for item in os.listdir(checkpointDir) if os.path.isdir(os.path.join(checkpointDir, item)))\n",
    "params['checkpoint_dir']=os.path.join(\"/home/user/nCORTEx_local/Project_Neuromodulation-for-Pain/Experiments/JOLT/Data/FTR/TRAIN/RTSpec/Inventory\",params['modelName'],(\"T\"+str(numModelItrs).rjust(2,'0')))    \n",
    "params['log_dir']=params['checkpoint_dir']\n"
   ]
  },
  {
   "cell_type": "markdown",
   "metadata": {
    "vscode": {
     "languageId": "plaintext"
    }
   },
   "source": [
    "# SETUP"
   ]
  },
  {
   "cell_type": "code",
   "execution_count": 3,
   "metadata": {},
   "outputs": [
    {
     "name": "stderr",
     "output_type": "stream",
     "text": [
      "/home/user/Code_Repo/n-CORTEx/NeuralNetworks/RTSpec/Assembly/SpecsDataset.py:21: UserWarning: This pattern is interpreted as a regular expression, and has match groups. To actually get the groups, use str.extract.\n",
      "  self.index = index[index.iloc[:,1].str.contains(pattern)]\n",
      "/home/user/Code_Repo/n-CORTEx/NeuralNetworks/RTSpec/Assembly/SpecsDataset.py:21: UserWarning: This pattern is interpreted as a regular expression, and has match groups. To actually get the groups, use str.extract.\n",
      "  self.index = index[index.iloc[:,1].str.contains(pattern)]\n",
      "/home/user/Code_Repo/n-CORTEx/NeuralNetworks/RTSpec/Assembly/SpecsDataset.py:21: UserWarning: This pattern is interpreted as a regular expression, and has match groups. To actually get the groups, use str.extract.\n",
      "  self.index = index[index.iloc[:,1].str.contains(pattern)]\n",
      "/home/user/Code_Repo/n-CORTEx/NeuralNetworks/RTSpec/.conda/lib/python3.11/site-packages/torch/nn/modules/conv.py:304: UserWarning: Using padding='same' with even kernel lengths and odd dilation may require a zero-padded copy of the input be created (Triggered internally at ../aten/src/ATen/native/Convolution.cpp:1031.)\n",
      "  return F.conv1d(input, weight, bias, self.stride,\n",
      "/home/user/Code_Repo/n-CORTEx/NeuralNetworks/RTSpec/.conda/lib/python3.11/site-packages/torch/cuda/__init__.py:128: UserWarning: CUDA initialization: The NVIDIA driver on your system is too old (found version 11040). Please update your GPU driver by downloading and installing a new version from the URL: http://www.nvidia.com/Download/index.aspx Alternatively, go to: https://pytorch.org to install a PyTorch version that has been compiled with your version of the CUDA driver. (Triggered internally at ../c10/cuda/CUDAFunctions.cpp:108.)\n",
      "  return torch._C._cuda_getDeviceCount() > 0\n"
     ]
    },
    {
     "name": "stdout",
     "output_type": "stream",
     "text": [
      "187833\n",
      "torch.Size([1, 8, 96])\n",
      "torch.Size([1, 16, 48])\n",
      "torch.Size([1, 32, 24])\n",
      "torch.Size([1, 64, 12])\n",
      "torch.Size([1, 128, 12])\n",
      "torch.Size([1, 64, 24])\n",
      "torch.Size([1, 32, 48])\n",
      "torch.Size([1, 16, 96])\n",
      "torch.Size([1, 8, 192])\n",
      "torch.Size([1, 1, 26])\n",
      "Pass Latency: 0.009292125701904297\n",
      "tensor([[[-0.2841, -0.3268, -0.2738, -0.1972, -0.1236, -0.0291, -0.0055,\n",
      "          -0.1323, -0.2602, -0.1982, -0.0367, -0.1678, -0.3607, -0.4218,\n",
      "          -0.3772, -0.5259, -0.6051, -0.4387, -0.3711, -0.3229, -0.2203,\n",
      "          -0.3017, -0.3990, -0.3729, -0.4271, -0.2868]]],\n",
      "       grad_fn=<ConvolutionBackward0>)\n",
      "torch.Size([1, 8, 96])\n",
      "torch.Size([1, 16, 48])\n",
      "torch.Size([1, 32, 24])\n",
      "torch.Size([1, 64, 12])\n",
      "torch.Size([1, 128, 12])\n",
      "torch.Size([1, 64, 24])\n",
      "torch.Size([1, 32, 48])\n",
      "torch.Size([1, 16, 96])\n",
      "torch.Size([1, 8, 192])\n",
      "torch.Size([1, 1, 26])\n",
      "==========================================================================================\n",
      "Layer (type:depth-idx)                   Output Shape              Param #\n",
      "==========================================================================================\n",
      "USpec                                    [1, 1, 26]                --\n",
      "├─ModuleList: 1-16                       --                        (recursive)\n",
      "│    └─Conv1d: 2-1                       [1, 8, 192]               40\n",
      "├─ModuleList: 1-17                       --                        (recursive)\n",
      "│    └─BatchNorm1d: 2-2                  [1, 8, 192]               16\n",
      "├─ModuleList: 1-18                       --                        (recursive)\n",
      "│    └─Conv1d: 2-3                       [1, 8, 192]               264\n",
      "├─ModuleList: 1-19                       --                        (recursive)\n",
      "│    └─BatchNorm1d: 2-4                  [1, 8, 192]               16\n",
      "├─ModuleList: 1-20                       --                        --\n",
      "│    └─MaxPool1d: 2-5                    [1, 8, 96]                --\n",
      "├─ModuleList: 1-16                       --                        (recursive)\n",
      "│    └─Conv1d: 2-6                       [1, 16, 96]               528\n",
      "├─ModuleList: 1-17                       --                        (recursive)\n",
      "│    └─BatchNorm1d: 2-7                  [1, 16, 96]               32\n",
      "├─ModuleList: 1-18                       --                        (recursive)\n",
      "│    └─Conv1d: 2-8                       [1, 16, 96]               1,040\n",
      "├─ModuleList: 1-19                       --                        (recursive)\n",
      "│    └─BatchNorm1d: 2-9                  [1, 16, 96]               32\n",
      "├─ModuleList: 1-20                       --                        --\n",
      "│    └─MaxPool1d: 2-10                   [1, 16, 48]               --\n",
      "├─ModuleList: 1-16                       --                        (recursive)\n",
      "│    └─Conv1d: 2-11                      [1, 32, 48]               2,080\n",
      "├─ModuleList: 1-17                       --                        (recursive)\n",
      "│    └─BatchNorm1d: 2-12                 [1, 32, 48]               64\n",
      "├─ModuleList: 1-18                       --                        (recursive)\n",
      "│    └─Conv1d: 2-13                      [1, 32, 48]               4,128\n",
      "├─ModuleList: 1-19                       --                        (recursive)\n",
      "│    └─BatchNorm1d: 2-14                 [1, 32, 48]               64\n",
      "├─ModuleList: 1-20                       --                        --\n",
      "│    └─MaxPool1d: 2-15                   [1, 32, 24]               --\n",
      "├─ModuleList: 1-16                       --                        (recursive)\n",
      "│    └─Conv1d: 2-16                      [1, 64, 24]               8,256\n",
      "├─ModuleList: 1-17                       --                        (recursive)\n",
      "│    └─BatchNorm1d: 2-17                 [1, 64, 24]               128\n",
      "├─ModuleList: 1-18                       --                        (recursive)\n",
      "│    └─Conv1d: 2-18                      [1, 64, 24]               16,448\n",
      "├─ModuleList: 1-19                       --                        (recursive)\n",
      "│    └─BatchNorm1d: 2-19                 [1, 64, 24]               128\n",
      "├─ModuleList: 1-20                       --                        --\n",
      "│    └─MaxPool1d: 2-20                   [1, 64, 12]               --\n",
      "├─Conv1d: 1-21                           [1, 128, 12]              32,896\n",
      "├─BatchNorm1d: 1-22                      [1, 128, 12]              256\n",
      "├─Conv1d: 1-23                           [1, 128, 12]              65,664\n",
      "├─BatchNorm1d: 1-24                      [1, 128, 12]              256\n",
      "├─ModuleList: 1-46                       --                        --\n",
      "│    └─Upsample: 2-21                    [1, 128, 24]              --\n",
      "├─ModuleList: 1-47                       --                        (recursive)\n",
      "│    └─Conv1d: 2-22                      [1, 64, 24]               16,448\n",
      "├─ModuleList: 1-48                       --                        (recursive)\n",
      "│    └─BatchNorm1d: 2-23                 [1, 64, 24]               128\n",
      "├─ModuleList: 1-49                       --                        (recursive)\n",
      "│    └─Conv1d: 2-24                      [1, 64, 24]               16,448\n",
      "├─ModuleList: 1-50                       --                        (recursive)\n",
      "│    └─BatchNorm1d: 2-25                 [1, 64, 24]               128\n",
      "├─ModuleList: 1-51                       --                        (recursive)\n",
      "│    └─Conv1d: 2-26                      [1, 64, 24]               8,256\n",
      "├─ModuleList: 1-52                       --                        (recursive)\n",
      "│    └─BatchNorm1d: 2-27                 [1, 64, 24]               128\n",
      "├─ModuleList: 1-46                       --                        --\n",
      "│    └─Upsample: 2-28                    [1, 64, 48]               --\n",
      "├─ModuleList: 1-47                       --                        (recursive)\n",
      "│    └─Conv1d: 2-29                      [1, 32, 48]               4,128\n",
      "├─ModuleList: 1-48                       --                        (recursive)\n",
      "│    └─BatchNorm1d: 2-30                 [1, 32, 48]               64\n",
      "├─ModuleList: 1-49                       --                        (recursive)\n",
      "│    └─Conv1d: 2-31                      [1, 32, 48]               4,128\n",
      "├─ModuleList: 1-50                       --                        (recursive)\n",
      "│    └─BatchNorm1d: 2-32                 [1, 32, 48]               64\n",
      "├─ModuleList: 1-51                       --                        (recursive)\n",
      "│    └─Conv1d: 2-33                      [1, 32, 48]               2,080\n",
      "├─ModuleList: 1-52                       --                        (recursive)\n",
      "│    └─BatchNorm1d: 2-34                 [1, 32, 48]               64\n",
      "├─ModuleList: 1-46                       --                        --\n",
      "│    └─Upsample: 2-35                    [1, 32, 96]               --\n",
      "├─ModuleList: 1-47                       --                        (recursive)\n",
      "│    └─Conv1d: 2-36                      [1, 16, 96]               1,040\n",
      "├─ModuleList: 1-48                       --                        (recursive)\n",
      "│    └─BatchNorm1d: 2-37                 [1, 16, 96]               32\n",
      "├─ModuleList: 1-49                       --                        (recursive)\n",
      "│    └─Conv1d: 2-38                      [1, 16, 96]               1,040\n",
      "├─ModuleList: 1-50                       --                        (recursive)\n",
      "│    └─BatchNorm1d: 2-39                 [1, 16, 96]               32\n",
      "├─ModuleList: 1-51                       --                        (recursive)\n",
      "│    └─Conv1d: 2-40                      [1, 16, 96]               528\n",
      "├─ModuleList: 1-52                       --                        (recursive)\n",
      "│    └─BatchNorm1d: 2-41                 [1, 16, 96]               32\n",
      "├─ModuleList: 1-46                       --                        --\n",
      "│    └─Upsample: 2-42                    [1, 16, 192]              --\n",
      "├─ModuleList: 1-47                       --                        (recursive)\n",
      "│    └─Conv1d: 2-43                      [1, 8, 192]               264\n",
      "├─ModuleList: 1-48                       --                        (recursive)\n",
      "│    └─BatchNorm1d: 2-44                 [1, 8, 192]               16\n",
      "├─ModuleList: 1-49                       --                        (recursive)\n",
      "│    └─Conv1d: 2-45                      [1, 8, 192]               264\n",
      "├─ModuleList: 1-50                       --                        (recursive)\n",
      "│    └─BatchNorm1d: 2-46                 [1, 8, 192]               16\n",
      "├─ModuleList: 1-51                       --                        (recursive)\n",
      "│    └─Conv1d: 2-47                      [1, 8, 192]               136\n",
      "├─ModuleList: 1-52                       --                        (recursive)\n",
      "│    └─BatchNorm1d: 2-48                 [1, 8, 192]               16\n",
      "├─AvgPool1d: 1-53                        [1, 8, 26]                --\n",
      "├─Conv1d: 1-54                           [1, 1, 26]                17\n",
      "==========================================================================================\n",
      "Total params: 187,833\n",
      "Trainable params: 187,833\n",
      "Non-trainable params: 0\n",
      "Total mult-adds (Units.MEGABYTES): 4.15\n",
      "==========================================================================================\n",
      "Input size (MB): 0.00\n",
      "Forward/backward pass size (MB): 0.54\n",
      "Params size (MB): 0.75\n",
      "Estimated Total Size (MB): 1.29\n",
      "==========================================================================================\n"
     ]
    }
   ],
   "source": [
    "# Fold settings (Cross Validation)\n",
    "trainFolds = [1,2,3]\n",
    "validFold = [4]\n",
    "testFold = [5]\n",
    "# Dataset instantiation\n",
    "specsData_train = SpecsDataset(dataDir, trainFolds)\n",
    "specsData_valid = SpecsDataset(dataDir, validFold)\n",
    "specsData_test = SpecsDataset(dataDir, testFold)\n",
    "# Dataloader instantiation\n",
    "trainLoader = DataLoader(specsData_train, shuffle=False, num_workers=params['numWorkers'], batch_size=params['batchSize'], pin_memory=False)\n",
    "validLoader = DataLoader(specsData_valid, shuffle=False, num_workers=params['numWorkers'], batch_size=params['batchSize'], pin_memory=False)\n",
    "testloader = DataLoader(specsData_valid, shuffle=False, num_workers=params['numWorkers'], batch_size=params['batchSize'], pin_memory=False)\n",
    "# Model instantiation\n",
    "model = USpec()\n",
    "modelSize = count_parameters(model)\n",
    "print(modelSize)\n",
    "# Test pass (size validation)\n",
    "# # Create a sample input tensor with shape (batch_size, channels, length)\n",
    "input_tensor = torch.randn(1, 1, 195)\n",
    "# # Run the forward pass and print the shapes\n",
    "start=time.time()\n",
    "output = model(input_tensor)\n",
    "stop=time.time()\n",
    "lat=stop-start\n",
    "print(\"Pass Latency: \" + str(lat))\n",
    "print(output)\n",
    "# Model Summary\n",
    "print(summary(model, input_size=(1, 1, 195)))\n",
    "# Optimizer instantiation\n",
    "optimizer = torch.optim.Adam(model.parameters(), lr=0.001)\n",
    "criterion = nn.MSELoss(reduction='sum')"
   ]
  },
  {
   "cell_type": "markdown",
   "metadata": {},
   "source": [
    "# TRAINING"
   ]
  },
  {
   "cell_type": "code",
   "execution_count": 4,
   "metadata": {},
   "outputs": [
    {
     "ename": "RuntimeError",
     "evalue": "The NVIDIA driver on your system is too old (found version 11040). Please update your GPU driver by downloading and installing a new version from the URL: http://www.nvidia.com/Download/index.aspx Alternatively, go to: https://pytorch.org to install a PyTorch version that has been compiled with your version of the CUDA driver.",
     "output_type": "error",
     "traceback": [
      "\u001b[0;31m---------------------------------------------------------------------------\u001b[0m",
      "\u001b[0;31mRuntimeError\u001b[0m                              Traceback (most recent call last)",
      "Cell \u001b[0;32mIn[4], line 2\u001b[0m\n\u001b[1;32m      1\u001b[0m \u001b[38;5;66;03m# Model Training\u001b[39;00m\n\u001b[0;32m----> 2\u001b[0m model \u001b[38;5;241m=\u001b[39m \u001b[43mtrain\u001b[49m\u001b[43m(\u001b[49m\u001b[43mparams\u001b[49m\u001b[43m,\u001b[49m\u001b[43m \u001b[49m\u001b[43mmodel\u001b[49m\u001b[43m,\u001b[49m\u001b[43m \u001b[49m\u001b[43mtrainLoader\u001b[49m\u001b[43m,\u001b[49m\u001b[43m \u001b[49m\u001b[43mvalidLoader\u001b[49m\u001b[43m,\u001b[49m\u001b[43m \u001b[49m\u001b[43mcriterion\u001b[49m\u001b[43m,\u001b[49m\u001b[43m \u001b[49m\u001b[43moptimizer\u001b[49m\u001b[43m)\u001b[49m\n",
      "File \u001b[0;32m~/Code_Repo/n-CORTEx/NeuralNetworks/RTSpec/Assembly/train.py:35\u001b[0m, in \u001b[0;36mtrain\u001b[0;34m(params, model, trainLoader, validLoader, criterion, optimizer)\u001b[0m\n\u001b[1;32m     33\u001b[0m \u001b[38;5;66;03m# Pass next sample\u001b[39;00m\n\u001b[1;32m     34\u001b[0m psd \u001b[38;5;241m=\u001b[39m data[\u001b[38;5;124m'\u001b[39m\u001b[38;5;124mPSD\u001b[39m\u001b[38;5;124m'\u001b[39m]\n\u001b[0;32m---> 35\u001b[0m psd \u001b[38;5;241m=\u001b[39m \u001b[43mpsd\u001b[49m\u001b[38;5;241;43m.\u001b[39;49m\u001b[43mcuda\u001b[49m\u001b[43m(\u001b[49m\u001b[43mparams\u001b[49m\u001b[43m[\u001b[49m\u001b[38;5;124;43m'\u001b[39;49m\u001b[38;5;124;43mlocal_rank\u001b[39;49m\u001b[38;5;124;43m'\u001b[39;49m\u001b[43m]\u001b[49m\u001b[43m,\u001b[49m\u001b[43m \u001b[49m\u001b[43mnon_blocking\u001b[49m\u001b[38;5;241;43m=\u001b[39;49m\u001b[38;5;28;43;01mTrue\u001b[39;49;00m\u001b[43m)\u001b[49m\n\u001b[1;32m     36\u001b[0m specs_label \u001b[38;5;241m=\u001b[39m data[\u001b[38;5;124m'\u001b[39m\u001b[38;5;124mlabel\u001b[39m\u001b[38;5;124m'\u001b[39m]\n\u001b[1;32m     37\u001b[0m specs_label \u001b[38;5;241m=\u001b[39m specs_label\u001b[38;5;241m.\u001b[39mcuda(params[\u001b[38;5;124m'\u001b[39m\u001b[38;5;124mlocal_rank\u001b[39m\u001b[38;5;124m'\u001b[39m], non_blocking\u001b[38;5;241m=\u001b[39m\u001b[38;5;28;01mTrue\u001b[39;00m)\n",
      "File \u001b[0;32m~/Code_Repo/n-CORTEx/NeuralNetworks/RTSpec/.conda/lib/python3.11/site-packages/torch/cuda/__init__.py:314\u001b[0m, in \u001b[0;36m_lazy_init\u001b[0;34m()\u001b[0m\n\u001b[1;32m    312\u001b[0m \u001b[38;5;28;01mif\u001b[39;00m \u001b[38;5;124m\"\u001b[39m\u001b[38;5;124mCUDA_MODULE_LOADING\u001b[39m\u001b[38;5;124m\"\u001b[39m \u001b[38;5;129;01mnot\u001b[39;00m \u001b[38;5;129;01min\u001b[39;00m os\u001b[38;5;241m.\u001b[39menviron:\n\u001b[1;32m    313\u001b[0m     os\u001b[38;5;241m.\u001b[39menviron[\u001b[38;5;124m\"\u001b[39m\u001b[38;5;124mCUDA_MODULE_LOADING\u001b[39m\u001b[38;5;124m\"\u001b[39m] \u001b[38;5;241m=\u001b[39m \u001b[38;5;124m\"\u001b[39m\u001b[38;5;124mLAZY\u001b[39m\u001b[38;5;124m\"\u001b[39m\n\u001b[0;32m--> 314\u001b[0m \u001b[43mtorch\u001b[49m\u001b[38;5;241;43m.\u001b[39;49m\u001b[43m_C\u001b[49m\u001b[38;5;241;43m.\u001b[39;49m\u001b[43m_cuda_init\u001b[49m\u001b[43m(\u001b[49m\u001b[43m)\u001b[49m\n\u001b[1;32m    315\u001b[0m \u001b[38;5;66;03m# Some of the queued calls may reentrantly call _lazy_init();\u001b[39;00m\n\u001b[1;32m    316\u001b[0m \u001b[38;5;66;03m# we need to just return without initializing in that case.\u001b[39;00m\n\u001b[1;32m    317\u001b[0m \u001b[38;5;66;03m# However, we must not let any *other* threads in!\u001b[39;00m\n\u001b[1;32m    318\u001b[0m _tls\u001b[38;5;241m.\u001b[39mis_initializing \u001b[38;5;241m=\u001b[39m \u001b[38;5;28;01mTrue\u001b[39;00m\n",
      "\u001b[0;31mRuntimeError\u001b[0m: The NVIDIA driver on your system is too old (found version 11040). Please update your GPU driver by downloading and installing a new version from the URL: http://www.nvidia.com/Download/index.aspx Alternatively, go to: https://pytorch.org to install a PyTorch version that has been compiled with your version of the CUDA driver."
     ]
    }
   ],
   "source": [
    "# Model Training\n",
    "model = train(params, model, trainLoader, validLoader, criterion, optimizer)"
   ]
  },
  {
   "cell_type": "markdown",
   "metadata": {},
   "source": [
    "# TESTING"
   ]
  },
  {
   "cell_type": "code",
   "execution_count": null,
   "metadata": {},
   "outputs": [],
   "source": [
    "# Model Testing\n",
    "model = test(params, model, testLoader, criterion, optimizer)"
   ]
  }
 ],
 "metadata": {
  "kernelspec": {
   "display_name": "Python 3",
   "language": "python",
   "name": "python3"
  },
  "language_info": {
   "codemirror_mode": {
    "name": "ipython",
    "version": 3
   },
   "file_extension": ".py",
   "mimetype": "text/x-python",
   "name": "python",
   "nbconvert_exporter": "python",
   "pygments_lexer": "ipython3",
   "version": "3.11.9"
  }
 },
 "nbformat": 4,
 "nbformat_minor": 2
}
