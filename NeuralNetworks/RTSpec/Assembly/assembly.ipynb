{
 "cells": [
  {
   "cell_type": "code",
   "execution_count": null,
   "metadata": {},
   "outputs": [],
   "source": [
    "# Marc Sorrentino 2024-08\n",
    "# Model development for realtime spectral fitting and embedding"
   ]
  },
  {
   "cell_type": "markdown",
   "metadata": {
    "vscode": {
     "languageId": "plaintext"
    }
   },
   "source": [
    "# IMPORTS"
   ]
  },
  {
   "cell_type": "code",
   "execution_count": null,
   "metadata": {},
   "outputs": [],
   "source": [
    "from Models.UTime import USpec"
   ]
  },
  {
   "cell_type": "markdown",
   "metadata": {},
   "source": [
    "# ASSEMBLY PARAMETERS"
   ]
  },
  {
   "cell_type": "code",
   "execution_count": null,
   "metadata": {},
   "outputs": [],
   "source": [
    "params.startEpoch=0\n",
    "params.endEpoch=50\n",
    "params.local_rank=0\n",
    "params.checkpoint_dir=\"\"\n",
    "params.log_dir=\"\"\n",
    "params.modelName=\"USpec\""
   ]
  },
  {
   "cell_type": "markdown",
   "metadata": {
    "vscode": {
     "languageId": "plaintext"
    }
   },
   "source": [
    "# SETUP"
   ]
  },
  {
   "cell_type": "code",
   "execution_count": null,
   "metadata": {},
   "outputs": [],
   "source": [
    "dataDir = \"\"\n",
    "# Fold settings (Cross Validation)\n",
    "trainFolds = [1,2,3]\n",
    "validFold = [4]\n",
    "testFold = [5]\n",
    "# Dataset instantiation\n",
    "specsData_train = SpecsDataset(dataDir, trainFolds)\n",
    "specsData_valid = SpecsDataset(dataDir, validFold)\n",
    "specsData_test = SpecsDataset(dataDir, testFold)\n",
    "# Dataloader instantiation\n",
    "trainLoader = DataLoader(specsData_train, shuffle=False, num_workers=params.numWorkers, batch_size=params.batchSize, pin_memory=False)\n",
    "validLoader = DataLoader(specsData_valid, shuffle=False, num_workers=params.numWorkers, batch_size=params.batchSize, pin_memory=False)\n",
    "testloader = DataLoader(specsData_valid, shuffle=False, num_workers=params.numWorkers, batch_size=params.batchSize, pin_memory=False)\n",
    "# Model instantiation\n",
    "model = USpec()"
   ]
  },
  {
   "cell_type": "markdown",
   "metadata": {},
   "source": [
    "# TRAINING"
   ]
  },
  {
   "cell_type": "code",
   "execution_count": null,
   "metadata": {},
   "outputs": [],
   "source": [
    "# Model Training\n",
    "model = train(params, model, trainLoader, validLoader, criterion, optimizer)"
   ]
  },
  {
   "cell_type": "markdown",
   "metadata": {},
   "source": [
    "# TESTING"
   ]
  },
  {
   "cell_type": "code",
   "execution_count": null,
   "metadata": {},
   "outputs": [],
   "source": [
    "# Model Testing\n",
    "model = test(params, model, testLoader, criterion, optimizer)"
   ]
  }
 ],
 "metadata": {
  "language_info": {
   "name": "python"
  }
 },
 "nbformat": 4,
 "nbformat_minor": 2
}
